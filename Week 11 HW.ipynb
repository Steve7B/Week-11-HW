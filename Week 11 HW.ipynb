{
 "cells": [
  {
   "cell_type": "code",
   "execution_count": 8,
   "metadata": {},
   "outputs": [],
   "source": [
    "def triangle_nested_loop(): \n",
    "    import turtle # nested loops\n",
    "    x=turtle.Turtle()\n",
    "    x.speed(75)\n",
    "    x.shape('turtle')\n",
    "    x.color('lightGreen')\n",
    "    x.shapesize(1,0.5)\n",
    "    for i in range(36): # line 7-10 is drawing a triagular\n",
    "      for j in range(3):\n",
    "        x.forward(150)\n",
    "        x.left(120)\n",
    "      x.right(10) "
   ]
  },
  {
   "cell_type": "code",
   "execution_count": 9,
   "metadata": {},
   "outputs": [],
   "source": [
    "def square_nested_loop():\n",
    "    import turtle # nested loops\n",
    "    x=turtle.Turtle()\n",
    "    x.speed(75)\n",
    "    x.shape('turtle')\n",
    "    x.color('lightBlue')\n",
    "    x.shapesize(1,0.5)\n",
    "    for i in range(36): # line 7-10 is drawing a triagular\n",
    "      for j in range(4):\n",
    "        x.forward(50)\n",
    "        x.right(90)\n",
    "      x.right(10) "
   ]
  },
  {
   "cell_type": "code",
   "execution_count": 10,
   "metadata": {},
   "outputs": [],
   "source": [
    "def hexagon_nested_loop(): \n",
    "    import turtle # nested loops\n",
    "    x=turtle.Turtle()\n",
    "    x.speed(75)\n",
    "    x.shape('turtle')\n",
    "    x.color('Orange')\n",
    "    x.shapesize(1,0.5)\n",
    "    for i in range(36): # line 7-10 is drawing a triagular\n",
    "      for j in range(6):\n",
    "        x.forward(50)\n",
    "        x.left(60)\n",
    "      x.right(10) "
   ]
  },
  {
   "cell_type": "code",
   "execution_count": 11,
   "metadata": {},
   "outputs": [],
   "source": [
    "def octagon_nested_loop():\n",
    "    import turtle # nested loops\n",
    "    x=turtle.Turtle()\n",
    "    x.speed(75)\n",
    "    x.shape('turtle')\n",
    "    x.color('Red')\n",
    "    x.shapesize(1,0.5)\n",
    "    for i in range(36): # line 7-10 is drawing a triagular\n",
    "      for j in range(8):\n",
    "        x.forward(50)\n",
    "        x.left(45)\n",
    "      x.right(10) "
   ]
  },
  {
   "cell_type": "code",
   "execution_count": 12,
   "metadata": {},
   "outputs": [],
   "source": [
    "def which_nested_loop():\n",
    "    nested_loop_choice = input(\"which nested loop would you like to use? You can pick triangle, square, hexagon and octagon. \")\n",
    "    if nested_loop_choice == \"triangle\":\n",
    "        return(triangle_nested_loop())\n",
    "    if nested_loop_choice == \"square\":\n",
    "        return(square_nested_loop())\n",
    "    if nested_loop_choice == \"hexagon\":\n",
    "        return(hexagon_nested_loop())\n",
    "    if nested_loop_choice == \"octagon\":\n",
    "        return(octagon_nested_loop())\n",
    "    else:\n",
    "        print(\"Sorry, your choice was not part of what we accept. Please pick triangle, square, hexagon or octagon. \")"
   ]
  },
  {
   "cell_type": "code",
   "execution_count": 13,
   "metadata": {},
   "outputs": [
    {
     "name": "stdout",
     "output_type": "stream",
     "text": [
      "which nested loop would you like to use? You can pick triangle, square, hexagon and octagon. trin\n",
      "Sorry, your choice was not part of what we accept. Please pick triangle, square, hexagon or octagon. \n"
     ]
    }
   ],
   "source": [
    "which_nested_loop()"
   ]
  },
  {
   "cell_type": "code",
   "execution_count": null,
   "metadata": {},
   "outputs": [],
   "source": []
  }
 ],
 "metadata": {
  "kernelspec": {
   "display_name": "Python 3",
   "language": "python",
   "name": "python3"
  },
  "language_info": {
   "codemirror_mode": {
    "name": "ipython",
    "version": 3
   },
   "file_extension": ".py",
   "mimetype": "text/x-python",
   "name": "python",
   "nbconvert_exporter": "python",
   "pygments_lexer": "ipython3",
   "version": "3.8.3"
  }
 },
 "nbformat": 4,
 "nbformat_minor": 4
}
